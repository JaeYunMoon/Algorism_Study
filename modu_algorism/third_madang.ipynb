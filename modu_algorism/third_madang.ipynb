{
 "cells": [
  {
   "cell_type": "code",
   "execution_count": 1,
   "metadata": {},
   "outputs": [
    {
     "name": "stdout",
     "output_type": "stream",
     "text": [
      "2\n",
      "3\n",
      "-1\n"
     ]
    }
   ],
   "source": [
    "# 순차탐색 \n",
    "def search_list(a,x):\n",
    "    n = len(a)\n",
    "    for i in range(0,n):\n",
    "        if x == a[i]:\n",
    "            return i \n",
    "    return -1 \n",
    "\n",
    "\n",
    "v = [17,92,18,33,58,7,33,42]\n",
    "\n",
    "print(search_list(v,18))\n",
    "print(search_list(v,33))\n",
    "print(search_list(v,900))"
   ]
  },
  {
   "attachments": {},
   "cell_type": "markdown",
   "metadata": {},
   "source": [
    "## 순차탐색\n",
    "\n",
    "- 순차탐색은 처음부터 끝까지 비교를 해야한다. \n",
    "- 시간복잡도는 O(n)으로 늘어나면 늘어날 수록 오래걸리는 정렬 방법이다. \n",
    "- 이 후 정렬을 통해서 찾는 방법을 배울 것 \n"
   ]
  },
  {
   "cell_type": "code",
   "execution_count": 7,
   "metadata": {},
   "outputs": [],
   "source": [
    "def search_ver1_list(a,x):\n",
    "    q = [] \n",
    "    n = len(a)\n",
    "    for i in range(n):\n",
    "        if x == a[i]:\n",
    "            q.append(i) \n",
    "    return q\n",
    "    "
   ]
  },
  {
   "cell_type": "code",
   "execution_count": 8,
   "metadata": {},
   "outputs": [
    {
     "name": "stdout",
     "output_type": "stream",
     "text": [
      "[3, 6]\n"
     ]
    }
   ],
   "source": [
    "print(search_ver1_list(v,33))"
   ]
  },
  {
   "cell_type": "code",
   "execution_count": null,
   "metadata": {},
   "outputs": [],
   "source": []
  }
 ],
 "metadata": {
  "kernelspec": {
   "display_name": "Python 3 (ipykernel)",
   "language": "python",
   "name": "python3"
  },
  "language_info": {
   "codemirror_mode": {
    "name": "ipython",
    "version": 3
   },
   "file_extension": ".py",
   "mimetype": "text/x-python",
   "name": "python",
   "nbconvert_exporter": "python",
   "pygments_lexer": "ipython3",
   "version": "3.8.16"
  },
  "orig_nbformat": 4
 },
 "nbformat": 4,
 "nbformat_minor": 2
}

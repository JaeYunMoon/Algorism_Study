{
 "cells": [
  {
   "cell_type": "markdown",
   "metadata": {},
   "source": [
    "## 1부터 n까지의 합을 구하라 \n",
    "- O(n) , O(1)"
   ]
  },
  {
   "cell_type": "code",
   "execution_count": 1,
   "metadata": {},
   "outputs": [
    {
     "data": {
      "text/plain": [
       "5050"
      ]
     },
     "execution_count": 1,
     "metadata": {},
     "output_type": "execute_result"
    }
   ],
   "source": [
    "# 문제 : 1부터 n까지의 합을 구하라 \n",
    "def n_add(n):\n",
    "    a = 0 \n",
    "    for i in range(1,n+1):\n",
    "        a+=i\n",
    "    return a \n",
    "n_add(100)"
   ]
  },
  {
   "cell_type": "code",
   "execution_count": 3,
   "metadata": {},
   "outputs": [
    {
     "data": {
      "text/plain": [
       "5050"
      ]
     },
     "execution_count": 3,
     "metadata": {},
     "output_type": "execute_result"
    }
   ],
   "source": [
    "def n_add2(n):\n",
    "    return (n*(n+1))//2\n",
    "\n",
    "n_add2(100)"
   ]
  },
  {
   "cell_type": "code",
   "execution_count": 10,
   "metadata": {},
   "outputs": [
    {
     "name": "stdout",
     "output_type": "stream",
     "text": [
      "385\n",
      "385\n"
     ]
    }
   ],
   "source": [
    "# 문제2 : 1부터 n까지 제곱합을 구하라 \n",
    "def sq_add(n):\n",
    "    return sum([i**2 for i in range(n+1)])\n",
    "\n",
    "def sq_add2(n):\n",
    "    return (n*(n+1)*(2*n+1))//6\n",
    "\n",
    "print(sq_add(10))\n",
    "print(sq_add2(10))"
   ]
  },
  {
   "cell_type": "code",
   "execution_count": 1,
   "metadata": {},
   "outputs": [],
   "source": [
    "def find_max(a):\n",
    "    n = len(a)\n",
    "    max = a[0] \n",
    "    for i in range(1,n):\n",
    "        if a[i] > max:\n",
    "            max = a[i] \n",
    "        \n",
    "    return max"
   ]
  },
  {
   "cell_type": "code",
   "execution_count": 2,
   "metadata": {},
   "outputs": [
    {
     "data": {
      "text/plain": [
       "92"
      ]
     },
     "execution_count": 2,
     "metadata": {},
     "output_type": "execute_result"
    }
   ],
   "source": [
    "a = [17,92,18,33,58,7,33,42]\n",
    "find_max(a)"
   ]
  },
  {
   "cell_type": "code",
   "execution_count": 3,
   "metadata": {},
   "outputs": [],
   "source": [
    "def find_max_idx(a):\n",
    "    n = len(a)\n",
    "    maxidx = 0 \n",
    "    for i in range(1,n):\n",
    "        if a[i] > a[maxidx]:\n",
    "            maxidx = i \n",
    "    \n",
    "    return maxidx "
   ]
  },
  {
   "cell_type": "code",
   "execution_count": 4,
   "metadata": {},
   "outputs": [
    {
     "data": {
      "text/plain": [
       "1"
      ]
     },
     "execution_count": 4,
     "metadata": {},
     "output_type": "execute_result"
    }
   ],
   "source": [
    "find_max_idx(a)"
   ]
  },
  {
   "cell_type": "code",
   "execution_count": 22,
   "metadata": {},
   "outputs": [
    {
     "name": "stdout",
     "output_type": "stream",
     "text": [
      "input the 1 number : 2\n",
      "input the 2 number : 492\n",
      "input the 3 number : 23\n",
      "input the 4 number : 4\n",
      "input the 5 number : 5\n",
      "input the 6 number : 12\n",
      "input the 7 number : 53\n",
      "input the 8 number : 4\n",
      "input the 9 number : 23\n",
      "input the 10 number : 56\n",
      "Finish\n",
      "[2, 492, 23, 4, 5, 12, 53, 4, 23, 56]\n"
     ]
    }
   ],
   "source": [
    "z = [] \n",
    "c = 0 \n",
    "while c < 10:\n",
    "    c +=1 \n",
    "    x = int(input(f'input the {c}count number : '))\n",
    "    z.append(x)\n",
    "    if c == 10: \n",
    "        print('Finish')\n",
    "print(z)"
   ]
  },
  {
   "cell_type": "code",
   "execution_count": 24,
   "metadata": {},
   "outputs": [
    {
     "data": {
      "text/plain": [
       "(0, 2)"
      ]
     },
     "execution_count": 24,
     "metadata": {},
     "output_type": "execute_result"
    }
   ],
   "source": [
    "def find_min(a):\n",
    "    mins = 0\n",
    "    for i in range(1,len(a)):\n",
    "        if a[i] < a[mins]:\n",
    "            mins = i\n",
    "    return mins, a[mins]\n",
    "\n",
    "find_min(z)"
   ]
  },
  {
   "cell_type": "code",
   "execution_count": 26,
   "metadata": {},
   "outputs": [
    {
     "name": "stdout",
     "output_type": "stream",
     "text": [
      "{'Tom'}\n",
      "{'Tom', 'Mike'}\n"
     ]
    }
   ],
   "source": [
    "a = [\"Tom\",\"Jerry\",\"Mike\",\"Tom\"]\n",
    "b = [\"Tom\",\"Jerry\",\"Mike\",\"Tom\",\"Mike\"]\n",
    "\n",
    "def find_same_name(ls):\n",
    "    n = len(ls)\n",
    "    result = set()\n",
    "    for i in range(n-1):\n",
    "        for j in range(i+1,n):\n",
    "            if ls[i] == ls[j]:\n",
    "                result.add(ls[i])\n",
    "    return result\n",
    "                \n",
    "    \n",
    "print(find_same_name(a))\n",
    "print(find_same_name(b))"
   ]
  },
  {
   "cell_type": "code",
   "execution_count": 33,
   "metadata": {},
   "outputs": [
    {
     "name": "stdout",
     "output_type": "stream",
     "text": [
      "Tom - Mike\n",
      "Tom - Jerry\n",
      "Mike - Jerry\n",
      "----------\n",
      "Tom - Jerry\n",
      "Tom - Mike\n",
      "Tom - Mike\n",
      "Jerry - Mike\n",
      "Jerry - Tom\n",
      "Jerry - Mike\n",
      "Mike - Jerry\n",
      "Mike - Tom\n",
      "Tom - Jerry\n",
      "Tom - Mike\n",
      "Tom - Mike\n"
     ]
    }
   ],
   "source": [
    "a = [\"Tom\",\"Mike\",\"Jerry\"]\n",
    "\n",
    "def find_double(a):\n",
    "    for i in range(0,len(a)-1):\n",
    "        for j in range(1,len(a)):\n",
    "            if a[i]!=a[j]:\n",
    "                print(f'{a[i]} - {a[j]}')\n",
    "\n",
    "                \n",
    "find_double(a)\n",
    "print(\"--\"*5)\n",
    "find_double(b)\n"
   ]
  },
  {
   "cell_type": "code",
   "execution_count": null,
   "metadata": {},
   "outputs": [],
   "source": []
  }
 ],
 "metadata": {
  "kernelspec": {
   "display_name": "Python 3 (ipykernel)",
   "language": "python",
   "name": "python3"
  },
  "language_info": {
   "codemirror_mode": {
    "name": "ipython",
    "version": 3
   },
   "file_extension": ".py",
   "mimetype": "text/x-python",
   "name": "python",
   "nbconvert_exporter": "python",
   "pygments_lexer": "ipython3",
   "version": "3.8.16"
  },
  "vscode": {
   "interpreter": {
    "hash": "c6d9716c63e734f4f684b700e3086f480d6aed433ed3af430a72a283ea7ce19b"
   }
  }
 },
 "nbformat": 4,
 "nbformat_minor": 2
}

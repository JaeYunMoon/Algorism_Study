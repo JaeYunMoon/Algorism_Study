{
 "cells": [
  {
   "cell_type": "markdown",
   "metadata": {},
   "source": [
    "# 탐색 알고리즘 \n"
   ]
  },
  {
   "cell_type": "markdown",
   "metadata": {},
   "source": [
    "## 순차탐색\n",
    "\n",
    "- 순차탐색은 처음부터 끝까지 비교를 해야한다. \n",
    "- 시간복잡도는 O(n)으로 늘어나면 늘어날 수록 오래걸리는 정렬 방법이다. \n",
    "- 이 후 정렬을 통해서 찾는 방법을 배울 것 \n"
   ]
  },
  {
   "cell_type": "code",
   "execution_count": 1,
   "metadata": {},
   "outputs": [
    {
     "name": "stdout",
     "output_type": "stream",
     "text": [
      "2\n",
      "3\n",
      "-1\n"
     ]
    }
   ],
   "source": [
    "# 순차탐색 \n",
    "# 인덱스 확인 하는 방법 \n",
    "def search_list(a,x):\n",
    "    n = len(a)\n",
    "    for i in range(0,n):\n",
    "        if x == a[i]:\n",
    "            return i \n",
    "    return -1 \n",
    "\n",
    "\n",
    "v = [17,92,18,33,58,7,33,42]\n",
    "\n",
    "print(search_list(v,18))\n",
    "print(search_list(v,33))\n",
    "print(search_list(v,900))"
   ]
  },
  {
   "cell_type": "code",
   "execution_count": 2,
   "metadata": {},
   "outputs": [
    {
     "name": "stdout",
     "output_type": "stream",
     "text": [
      "[3, 6]\n"
     ]
    }
   ],
   "source": [
    "# 문제 1 : 중복된 값의 인덱스를 전부 찾고 없으면 빈 리스트 출력\n",
    "def search_ver1_list(a,x):\n",
    "    q = [] \n",
    "    n = len(a)\n",
    "    for i in range(n):\n",
    "        if x == a[i]:\n",
    "            q.append(i) \n",
    "    return q\n",
    "    \n",
    "print(search_ver1_list(v,33))\n",
    "# 계산 복잡도 = O(n)"
   ]
  },
  {
   "cell_type": "code",
   "execution_count": 3,
   "metadata": {},
   "outputs": [
    {
     "name": "stdout",
     "output_type": "stream",
     "text": [
      "?\n",
      "Summer\n"
     ]
    }
   ],
   "source": [
    "# 문제 2 : 학생 번호를 입력 하면 학생 번호에 해당하는 이름을 순차 탐색으로 찾아 돌려주는 함수를 만들어라. 없다면 ? 를 출력\n",
    "stu_no = [39,14,67,105]\n",
    "stu_name = [\"Justin\",\"John\",\"Mike\",\"Summer\"]\n",
    "\n",
    "def select_num_stu(numl,namel,num):\n",
    "    n = len(numl)\n",
    "    for i in range(n):\n",
    "        if num == numl[i]:\n",
    "            return namel[i]\n",
    "    \n",
    "    return '?'\n",
    "\n",
    "print(select_num_stu(stu_no,stu_name,100))\n",
    "print(select_num_stu(stu_no,stu_name,105))"
   ]
  },
  {
   "cell_type": "markdown",
   "metadata": {},
   "source": [
    "## 이분 탐색 "
   ]
  },
  {
   "cell_type": "code",
   "execution_count": 3,
   "metadata": {},
   "outputs": [
    {
     "data": {
      "text/plain": [
       "5"
      ]
     },
     "execution_count": 3,
     "metadata": {},
     "output_type": "execute_result"
    }
   ],
   "source": [
    "d = [1,4,9,16,25,36,49,64,81]\n",
    "\n",
    "def half_search(a,x): \n",
    "    n = len(a)\n",
    "    start = 0 \n",
    "    end = n-1 \n",
    "    \n",
    "\n",
    "    while start <=end:\n",
    "        mid = (end - start)\n",
    "        if x == a[mid]:\n",
    "            return mid\n",
    "\n",
    "        elif x > a[mid]:\n",
    "            start = mid+1 \n",
    "        else:\n",
    "            end = mid-1\n",
    "    \n",
    "    return -1 \n",
    "\n",
    "half_search(d,36)"
   ]
  },
  {
   "cell_type": "markdown",
   "metadata": {},
   "source": [
    "# 정렬 알고리즘\n",
    "정렬을 하는 이유는 빨리 찾기 위해서   \n",
    "(국어사전을 생각하면 쉽다. 'ㄱ','ㄴ','ㄷ' 카테고리를 이용하기 위해 미리 정리 하는방법 느낌)\n",
    "\n",
    "- 선택 정렬 \n",
    "- 삽입 정렬 \n",
    "- 병합 정렬 \n",
    "- 퀵 정렬 \n",
    "- 거품 정렬 \n"
   ]
  },
  {
   "cell_type": "markdown",
   "metadata": {},
   "source": [
    "## 선택 정렬\n",
    "\n",
    "선택해서 순서대로 쌓는 정렬하는 방법 O(n^2)  \n",
    "남은 자료 중에 최소값을 선택해서 차례로 배치하는 정렬 "
   ]
  },
  {
   "cell_type": "code",
   "execution_count": 4,
   "metadata": {},
   "outputs": [
    {
     "data": {
      "text/plain": [
       "[1, 2, 3, 4, 5]"
      ]
     },
     "execution_count": 4,
     "metadata": {},
     "output_type": "execute_result"
    }
   ],
   "source": [
    "# 선택정렬 - 작은 순서대로 정렬 \n",
    "# n(n-1)/2 번 해야함 O(n^2) \n",
    "###### 제일 작은 요소를 뽑아서, 맨 앞자리에 세우는 정렬 #######\n",
    "def find_minidx(v):\n",
    "    min = 0 \n",
    "    for i in range(1,len(v)):\n",
    "        if v[i] < v[min]:\n",
    "            min = i \n",
    "    return min # 젤 작은 인덱스 찾는 방법 \n",
    "\n",
    "def origin_select_sort(v):\n",
    "    ls = [] \n",
    "    while v:\n",
    "        minidx = find_minidx(v)\n",
    "        minvalue = v.pop(minidx)\n",
    "        ls.append(minvalue)\n",
    "    \n",
    "    return ls\n",
    "\n",
    "\n",
    "v = [2,4,5,1,3]\n",
    "\n",
    "origin_select_sort(v)\n"
   ]
  },
  {
   "cell_type": "code",
   "execution_count": 5,
   "metadata": {},
   "outputs": [
    {
     "name": "stdout",
     "output_type": "stream",
     "text": [
      "[4, 2, 5, 1, 3]\n",
      "[5, 2, 4, 1, 3]\n",
      "[5, 2, 4, 1, 3]\n",
      "[5, 2, 4, 1, 3]\n",
      "----------------\n",
      "[5, 4, 2, 1, 3]\n",
      "[5, 4, 2, 1, 3]\n",
      "[5, 4, 2, 1, 3]\n",
      "----------------\n",
      "[5, 4, 2, 1, 3]\n",
      "[5, 4, 3, 1, 2]\n",
      "----------------\n",
      "[5, 4, 3, 2, 1]\n",
      "----------------\n"
     ]
    },
    {
     "data": {
      "text/plain": [
       "[5, 4, 3, 2, 1]"
      ]
     },
     "execution_count": 5,
     "metadata": {},
     "output_type": "execute_result"
    }
   ],
   "source": [
    "def select_accending_sort(v):\n",
    "    max = 0 \n",
    "    for i in range(0,len(v)-1):\n",
    "        for j in range(i+1,len(v)):\n",
    "            if v[i] < v[j]:\n",
    "                v[i],v[j] = v[j],v[i]\n",
    "            # print(i)\n",
    "            # print(j)\n",
    "            print(v)\n",
    "        print('----'*4)\n",
    "    return v \n",
    "\n",
    "v = [2,4,5,1,3]\n",
    "select_accending_sort(v)\n"
   ]
  },
  {
   "cell_type": "markdown",
   "metadata": {},
   "source": [
    "## 삽입 정렬\n",
    "선택 후 넣을 곳을 비교 후 정렬하는 방법 O(n^2)   \n",
    "자료를 하나씩 적절한 위치에 삽입 "
   ]
  },
  {
   "cell_type": "code",
   "execution_count": 6,
   "metadata": {},
   "outputs": [
    {
     "data": {
      "text/plain": [
       "[1, 2, 3, 4, 5]"
      ]
     },
     "execution_count": 6,
     "metadata": {},
     "output_type": "execute_result"
    }
   ],
   "source": [
    "# 새로운 리스트를 만드는 방법인데 하나를 선택하고 그 전에 선택했던 것들과 비교 후 삽입 \n",
    "def find_ins_idx(r,v):\n",
    "    for i in range(0,len(r)):\n",
    "        if v < r[i]:\n",
    "            return i \n",
    "    return len(r) # 맨 뒤로 보내기 위해서 \n",
    "    # \n",
    "\n",
    "def ins_sort(a):\n",
    "    result = [] \n",
    "    while a:\n",
    "        value = a.pop(0)\n",
    "        ins_idx = find_ins_idx(result,value)\n",
    "        result.insert(ins_idx,value)\n",
    "    return result \n",
    "\n",
    "d = [2,4,5,1,3]\n",
    "ins_sort(d)"
   ]
  },
  {
   "cell_type": "code",
   "execution_count": 27,
   "metadata": {},
   "outputs": [
    {
     "name": "stdout",
     "output_type": "stream",
     "text": [
      "4\n",
      "5\n",
      "1\n",
      "[2, 4, 5, 5, 3]\n",
      "----------------\n",
      "1\n",
      "[2, 4, 4, 5, 3]\n",
      "----------------\n",
      "1\n",
      "[2, 2, 4, 5, 3]\n",
      "----------------\n",
      "1\n",
      "3\n",
      "[1, 2, 4, 5, 5]\n",
      "----------------\n",
      "3\n",
      "[1, 2, 4, 4, 5]\n",
      "----------------\n",
      "3\n"
     ]
    },
    {
     "data": {
      "text/plain": [
       "[1, 2, 3, 4, 5]"
      ]
     },
     "execution_count": 27,
     "metadata": {},
     "output_type": "execute_result"
    }
   ],
   "source": [
    "def ins_acc_sort(v):\n",
    "    for i in range(1,len(v)):\n",
    "        key = v[i]\n",
    "        j = i-1 \n",
    "        while j>=0 and v[j] > key: # 내립차순 \n",
    "            # 삽입 해서 비교하는 부분이라고 생각하면 된다. \n",
    "            print(key) \n",
    "            v[j+1] = v[j]\n",
    "            j-=1 \n",
    "            print(v)\n",
    "            print('----'*4)\n",
    "\n",
    "        print(key)\n",
    "        v[j+1] = key ## \n",
    "        \n",
    "    return v\n",
    "\n",
    "d = [2,4,5,1,3]\n",
    "ins_acc_sort(d)"
   ]
  },
  {
   "cell_type": "markdown",
   "metadata": {},
   "source": [
    "## 병합정렬 \n",
    "- 리스트를 두개로 나누어 정렬 후 하나로 정렬 O(n*log_(n))"
   ]
  },
  {
   "cell_type": "code",
   "execution_count": 8,
   "metadata": {},
   "outputs": [
    {
     "name": "stdout",
     "output_type": "stream",
     "text": [
      "[1, 2, 3, 4, 5, 6, 7, 8, 9, 10]\n"
     ]
    }
   ],
   "source": [
    "def merge_sort(x):\n",
    "    n = len(x)\n",
    "    if n <=1:\n",
    "        return x # 여기서 리스트여서 \n",
    "\n",
    "    mid = n //2 \n",
    "    g1 = merge_sort(x[:mid]) # 재귀함수를 이용한 정렬 방법 \n",
    "    g2 = merge_sort(x[mid:])\n",
    "\n",
    "    result = [] \n",
    "    while g1 and g2:\n",
    "        if g1[0] < g2[0]: # 여기서 리스트여서 인덱스로 빼낸거 \n",
    "            result.append(g1.pop(0)) \n",
    "        else :\n",
    "            result.append(g2.pop(0))\n",
    "    \n",
    "    if len(g1):\n",
    "        result.extend(g1)\n",
    "    elif len(g2):\n",
    "        result.extend(g2)\n",
    "\n",
    "    return result \n",
    "\n",
    "d = [6,8,3,9,10,1,2,4,7,5]\n",
    "print(merge_sort(d)) "
   ]
  },
  {
   "cell_type": "code",
   "execution_count": 10,
   "metadata": {},
   "outputs": [
    {
     "name": "stdout",
     "output_type": "stream",
     "text": [
      "[1, 2, 3, 4, 5, 6, 7, 8, 9, 10]\n"
     ]
    }
   ],
   "source": [
    "d = [6,8,3,9,10,1,2,4,7,5]\n",
    "def merge_sort(a):\n",
    "    n = len(a)\n",
    "    if n <=1:\n",
    "        return #? \n",
    "    \n",
    "    min = n//2 \n",
    "    g1 = a[:min]\n",
    "    g2 = a[min:]\n",
    "    merge_sort(g1)\n",
    "    merge_sort(g2)\n",
    "    i1 = 0;i2 = 0;ia = 0\n",
    "    \n",
    "    while i1<len(g1) and i2<len(g2): \n",
    "        if g1[i1] < g2[i2]:\n",
    "            a[ia] = g1[i1]\n",
    "            i1 +=1\n",
    "            ia +=1\n",
    "        else :\n",
    "            a[ia] = g2[i2]\n",
    "            i2 +=1\n",
    "            ia +=1\n",
    "    while i1 < len(g1):\n",
    "        a[ia] = g1[i1]\n",
    "        i1 += 1\n",
    "        ia +=1 \n",
    "    while i2 < len(g2):\n",
    "        a[ia] = g2[i2]\n",
    "        i2 +=1\n",
    "        ia+=1\n",
    "\n",
    "merge_sort(d)\n",
    "print(d)\n",
    "    "
   ]
  },
  {
   "cell_type": "markdown",
   "metadata": {},
   "source": [
    "## 퀵정렬 \n",
    "- 기준 선택 -> 기준에 맞춰 그룹 나누기 -> 그룹별로 각각 정렬 "
   ]
  },
  {
   "cell_type": "code",
   "execution_count": 12,
   "metadata": {},
   "outputs": [
    {
     "name": "stdout",
     "output_type": "stream",
     "text": [
      "[1, 2, 3, 4, 5, 6, 7, 8, 9, 10]\n"
     ]
    }
   ],
   "source": [
    "def quick_sort(a):\n",
    "    n = len(a)\n",
    "    if n<=1:\n",
    "        return a\n",
    "\n",
    "    pivot = a[-1] # 기준값 \n",
    "    g1 = [] \n",
    "    g2 = [] \n",
    "    for i in range(0,n-1):\n",
    "        if a[i] < pivot:\n",
    "            g1.append(a[i])\n",
    "        else:\n",
    "            g2.append(a[i])\n",
    "\n",
    "    return quick_sort(g1) + [pivot] + quick_sort(g2) # list + list 는 extened 와 같다. \n",
    "\n",
    "d = [6,8,3,9,10,1,2,4,7,5]\n",
    "print(quick_sort(d))\n"
   ]
  },
  {
   "cell_type": "code",
   "execution_count": 23,
   "metadata": {},
   "outputs": [
    {
     "name": "stdout",
     "output_type": "stream",
     "text": [
      "[3, 1, 2, 4, 5, 8, 6, 9, 7, 10]\n",
      "[3, 1, 2, 4, 5, 8, 6, 9, 7, 10]\n",
      "[1, 2, 3, 4, 5, 8, 6, 9, 7, 10]\n",
      "[1, 2, 3, 4, 5, 8, 6, 9, 7, 10]\n",
      "[1, 2, 3, 4, 5, 6, 7, 9, 8, 10]\n",
      "[1, 2, 3, 4, 5, 6, 7, 8, 9, 10]\n",
      "[1, 2, 3, 4, 5, 6, 7, 8, 9, 10]\n"
     ]
    }
   ],
   "source": [
    "def quick_sort_sub(a,start,end):\n",
    "    if end-start <=0:\n",
    "        return \n",
    "\n",
    "    pivot = a[end]\n",
    "    i = start \n",
    "    for j in range(start,end):\n",
    "        if a[j] <= pivot:\n",
    "            a[i],a[j]=a[j],a[i]\n",
    "            i +=1 \n",
    "    a[i],a[end] = a[end],a[i] # 기준 값을 중간으로 보내기 \n",
    "    print(a)\n",
    "    quick_sort_sub(a,start,i-1)\n",
    "    quick_sort_sub(a,i+1,end)\n",
    "\n",
    "def quick_sort(a):\n",
    "    quick_sort_sub(a,0,len(a)-1)\n",
    "\n",
    "d = [6,8,3,9,10,1,2,4,7,5]\n",
    "quick_sort(d)\n",
    "\n",
    "print(d)"
   ]
  },
  {
   "cell_type": "code",
   "execution_count": null,
   "metadata": {},
   "outputs": [],
   "source": []
  }
 ],
 "metadata": {
  "kernelspec": {
   "display_name": "Python 3 (ipykernel)",
   "language": "python",
   "name": "python3"
  },
  "language_info": {
   "codemirror_mode": {
    "name": "ipython",
    "version": 3
   },
   "file_extension": ".py",
   "mimetype": "text/x-python",
   "name": "python",
   "nbconvert_exporter": "python",
   "pygments_lexer": "ipython3",
   "version": "3.9.13"
  },
  "vscode": {
   "interpreter": {
    "hash": "c6d9716c63e734f4f684b700e3086f480d6aed433ed3af430a72a283ea7ce19b"
   }
  }
 },
 "nbformat": 4,
 "nbformat_minor": 2
}
